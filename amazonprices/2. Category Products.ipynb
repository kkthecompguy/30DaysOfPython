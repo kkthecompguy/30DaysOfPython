{
 "cells": [
  {
   "cell_type": "code",
   "execution_count": null,
   "metadata": {},
   "outputs": [],
   "source": [
    "import re\n",
    "import os\n",
    "import requests\n",
    "import time\n",
    "import pandas as pd\n",
    "from requests_html import HTML\n",
    "from selenium import webdriver\n",
    "from selenium.webdriver.chrome.options import Options"
   ]
  },
  {
   "cell_type": "code",
   "execution_count": null,
   "metadata": {},
   "outputs": [],
   "source": [
    "options = Options()\n",
    "options.add_argument('--headless')\n",
    "driver = webdriver.Chrome(options=options)"
   ]
  },
  {
   "cell_type": "code",
   "execution_count": null,
   "metadata": {},
   "outputs": [],
   "source": [
    "cwd = os.getcwd()\n",
    "BASE_DIR = os.path.join(cwd) \n",
    "DATA_DIR = os.path.join(BASE_DIR, 'data')\n",
    "os.makedirs(DATA_DIR, exist_ok=True)\n",
    "product_output = os.path.join(DATA_DIR, 'products.csv')\n",
    "product_categories_links_ouput = os.path.join(DATA_DIR, 'product-catgories.csv')"
   ]
  },
  {
   "cell_type": "code",
   "execution_count": null,
   "metadata": {},
   "outputs": [],
   "source": [
    "categories = [\n",
    "    {\"name\": \"computers_and_accessories\", \"url\":\"https://www.amazon.com/s?i=specialty-aps&bbn=16225009011&rh=n%3A%2116225009011%2Cn%3A541966&ref=nav_em__nav_desktop_sa_intl_computers_and_accessories_0_2_5_6\"},\n",
    "    {\"name\": \"data_storage\", \"url\":\"https://www.amazon.com/s?i=specialty-aps&bbn=16225007011&rh=n%3A16225007011%2Cn%3A1292110011&ref=nav_em__nav_desktop_sa_intl_data_storage_0_2_6_5\"},\n",
    "    {\"name\": \"clothing\", \"url\":\"https://www.amazon.com/s?i=specialty-aps&bbn=16225019011&rh=n%3A7141123011%2Cn%3A16225019011%2Cn%3A1040658&ref=nav_em__nav_desktop_sa_intl_clothing_0_2_13_2\"}\n",
    "]"
   ]
  },
  {
   "cell_type": "code",
   "execution_count": null,
   "metadata": {},
   "outputs": [],
   "source": [
    "def extract_page_links(url):\n",
    "    driver.get(url)\n",
    "    time.sleep(2)\n",
    "    body = driver.find_element_by_css_selector('body')\n",
    "    html_str = body.get_attribute('innerHTML')\n",
    "    html_obj = HTML(html=html_str)\n",
    "    links = html_obj.links\n",
    "    return links"
   ]
  },
  {
   "cell_type": "code",
   "execution_count": null,
   "metadata": {},
   "outputs": [],
   "source": [
    "def extract_product_id_from_url(url):\n",
    "    product_id = None\n",
    "    regex_pattern = \"https://amazon.com/(?P<slug>[\\w-]+)/dp/(?P<product_id>[\\w-]+)/\"  \n",
    "    regex = re.compile(regex_pattern)\n",
    "    match = regex.match(url) \n",
    "    if match != None:\n",
    "        try:\n",
    "            product_id = match['product_id']\n",
    "        except:\n",
    "            pass\n",
    "    return product_id"
   ]
  },
  {
   "cell_type": "code",
   "execution_count": null,
   "metadata": {},
   "outputs": [],
   "source": [
    "def clean_page_links(links=[]):\n",
    "    final_page_links = []\n",
    "    for link in links:\n",
    "        product_id = extract_product_id_from_url(link)\n",
    "        if product_id != None:\n",
    "            final_page_links.append({'product_id':product_id, 'url': link}) \n",
    "    return final_page_links  "
   ]
  },
  {
   "cell_type": "code",
   "execution_count": null,
   "metadata": {},
   "outputs": [],
   "source": [
    "def scrape_category_page_links(categories=[]):\n",
    "    all_page_links = []\n",
    "    for category in categories:\n",
    "        time.sleep(2)\n",
    "        url = category.get('url')\n",
    "        page_links = [f'https://amazon.com{x}' for x in extract_page_links(url) if x.startswith('/')] \n",
    "        cleaned_links = clean_page_links(links=page_links)\n",
    "        all_page_links += cleaned_links\n",
    "    return all_page_links"
   ]
  },
  {
   "cell_type": "code",
   "execution_count": null,
   "metadata": {},
   "outputs": [],
   "source": [
    "all_product_links = scrape_category_page_links(categories=categories)\n",
    "# category_df = pd.DataFrame(all_product_links)\n",
    "# category_df.to_csv(product_categories_links_ouput, index=False)\n",
    "all_product_links"
   ]
  },
  {
   "cell_type": "code",
   "execution_count": null,
   "metadata": {},
   "outputs": [],
   "source": [
    "category_df = pd.DataFrame(all_product_links)\n",
    "category_df.to_csv(product_categories_links_ouput, index=False)"
   ]
  },
  {
   "cell_type": "code",
   "execution_count": null,
   "metadata": {},
   "outputs": [],
   "source": [
    "def scrape_product_page(url, title_lookup=\"#productTitle\", price_lookup=\"#priceblock_ourprice\"):\n",
    "    driver.get(url)\n",
    "    time.sleep(3)\n",
    "    body = driver.find_element_by_css_selector('body')\n",
    "    html_str =  body.get_attribute('innerHTML')\n",
    "    html_obj = HTML(html=html_str)\n",
    "    product_title = html_obj.find(title_lookup, first=True).text\n",
    "    product_price = html_obj.find(price_lookup, first=True).text\n",
    "    return product_title, product_price"
   ]
  },
  {
   "cell_type": "code",
   "execution_count": null,
   "metadata": {},
   "outputs": [],
   "source": [
    "def perform_scrape(links):\n",
    "    extracted_data = []\n",
    "    for link in links:\n",
    "        product_id = link['product_id']\n",
    "        title, price = (None, None)\n",
    "        url = link['url']\n",
    "        try:\n",
    "            title, price = scrape_product_page(url)\n",
    "        except:\n",
    "            pass\n",
    "        if title != None and price != None:\n",
    "            print(title, price)\n",
    "        product_data = {\n",
    "            'title': title,\n",
    "            'price': price,\n",
    "            'productId': product_id,\n",
    "            'url': url\n",
    "        }\n",
    "        extracted_data.append(product_data)\n",
    "    return extracted_data\n",
    "            "
   ]
  },
  {
   "cell_type": "code",
   "execution_count": null,
   "metadata": {},
   "outputs": [],
   "source": [
    "data_extracted = perform_scrape(all_product_links)\n",
    "df = pd.DataFrame(data_extracted)\n",
    "df.to_csv(output, index=False)"
   ]
  }
 ],
 "metadata": {
  "kernelspec": {
   "display_name": "Python 3",
   "language": "python",
   "name": "python3"
  },
  "language_info": {
   "codemirror_mode": {
    "name": "ipython",
    "version": 3
   },
   "file_extension": ".py",
   "mimetype": "text/x-python",
   "name": "python",
   "nbconvert_exporter": "python",
   "pygments_lexer": "ipython3",
   "version": "3.7.3"
  }
 },
 "nbformat": 4,
 "nbformat_minor": 2
}
