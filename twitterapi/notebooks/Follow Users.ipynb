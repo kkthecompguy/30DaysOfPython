{
 "cells": [
  {
   "cell_type": "code",
   "execution_count": 2,
   "metadata": {},
   "outputs": [],
   "source": [
    "import tweepy\n",
    "import webbrowser\n",
    "import time\n",
    "import pandas as pd"
   ]
  },
  {
   "cell_type": "code",
   "execution_count": 3,
   "metadata": {},
   "outputs": [
    {
     "name": "stdout",
     "output_type": "stream",
     "text": [
      "What is the user pin? 5289095\n"
     ]
    },
    {
     "data": {
      "text/plain": [
       "('933606174812983296-9GM7280599Gt9s0lmrCAXuwGLkyvo4h',\n",
       " 'fnGPtm4epsfRBv3wJS6kSlNYC90P0Ijh80Zqzwr0I4MgA')"
      ]
     },
     "execution_count": 3,
     "metadata": {},
     "output_type": "execute_result"
    }
   ],
   "source": [
    "consumer_key = \"SRKYbF44wb7ImB9c3XxppcX22\"\n",
    "consumer_secret = \"GUZpAdVN31FRnD5Tjaxqk5l4tvMlQq6pGl01H7ThhwzVr6yRlV\"\n",
    "callback_uri = \"oob\"\n",
    "auth = tweepy.OAuthHandler(consumer_key, consumer_secret, callback_uri)\n",
    "request_url = auth.get_authorization_url()\n",
    "webbrowser.open(request_url)\n",
    "user_pin_input = input(\"What is the user pin? \")\n",
    "auth.get_access_token(user_pin_input)"
   ]
  },
  {
   "cell_type": "code",
   "execution_count": 4,
   "metadata": {},
   "outputs": [],
   "source": [
    "api = tweepy.API(auth)"
   ]
  },
  {
   "cell_type": "code",
   "execution_count": 9,
   "metadata": {},
   "outputs": [],
   "source": [
    "my_new_friends = []\n",
    "user = api.get_user('code') \n",
    "user_friends = user.followers()\n",
    "\n",
    "for friend in user_friends:\n",
    "    my_new_friends.append(friend.screen_name)\n",
    "    relationship = api.create_friendship(friend.screen_name)\n",
    "    \n",
    "for friend in my_new_friends:\n",
    "    api.destroy_friendship(friend)"
   ]
  },
  {
   "cell_type": "code",
   "execution_count": 22,
   "metadata": {},
   "outputs": [
    {
     "name": "stdout",
     "output_type": "stream",
     "text": [
      "Writing follow_users.py\n"
     ]
    }
   ],
   "source": [
    "%%writefile follow_users.py\n",
    "\n",
    "import tweepy\n",
    "import webbrowser\n",
    "import time\n",
    "import pandas as pd\n",
    "\n",
    "consumer_key = \"SRKYbF44wb7ImB9c3XxppcX22\"\n",
    "consumer_secret = \"GUZpAdVN31FRnD5Tjaxqk5l4tvMlQq6pGl01H7ThhwzVr6yRlV\"\n",
    "callback_uri = \"oob\"\n",
    "\n",
    "auth = tweepy.OAuthHandler(consumer_key, consumer_secret, callback_uri)\n",
    "request_url = auth.get_authorization_url()\n",
    "webbrowser.open(request_url)\n",
    "user_pin_input = input(\"What is the user pin? \")\n",
    "auth.get_access_token(user_pin_input)\n",
    "\n",
    "api = tweepy.API(auth) \n",
    "\n",
    "user = api.get_user('code') \n",
    "user_friends = user.followers()\n",
    "\n",
    "my_new_friends = []\n",
    "for friend in user_friends:\n",
    "    my_new_friends.append(friend.screen_name)\n",
    "    relationship = api.create_friendship(friend.screen_name)\n",
    "    \n",
    "for friend in my_new_friends:\n",
    "    api.destroy_friendship(friend))\n",
    " "
   ]
  }
 ],
 "metadata": {
  "kernelspec": {
   "display_name": "Python 3",
   "language": "python",
   "name": "python3"
  },
  "language_info": {
   "codemirror_mode": {
    "name": "ipython",
    "version": 3
   },
   "file_extension": ".py",
   "mimetype": "text/x-python",
   "name": "python",
   "nbconvert_exporter": "python",
   "pygments_lexer": "ipython3",
   "version": "3.7.3"
  }
 },
 "nbformat": 4,
 "nbformat_minor": 2
}
