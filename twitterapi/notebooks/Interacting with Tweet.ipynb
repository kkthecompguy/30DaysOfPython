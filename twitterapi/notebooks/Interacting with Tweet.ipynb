{
 "cells": [
  {
   "cell_type": "code",
   "execution_count": 2,
   "metadata": {},
   "outputs": [],
   "source": [
    "import tweepy\n",
    "import webbrowser\n",
    "import time\n",
    "import pandas as pd"
   ]
  },
  {
   "cell_type": "code",
   "execution_count": 3,
   "metadata": {},
   "outputs": [
    {
     "name": "stdout",
     "output_type": "stream",
     "text": [
      "What is the user pin? 6047721\n"
     ]
    },
    {
     "data": {
      "text/plain": [
       "('933606174812983296-9GM7280599Gt9s0lmrCAXuwGLkyvo4h',\n",
       " 'fnGPtm4epsfRBv3wJS6kSlNYC90P0Ijh80Zqzwr0I4MgA')"
      ]
     },
     "execution_count": 3,
     "metadata": {},
     "output_type": "execute_result"
    }
   ],
   "source": [
    "consumer_key = \"SRKYbF44wb7ImB9c3XxppcX22\"\n",
    "consumer_secret = \"GUZpAdVN31FRnD5Tjaxqk5l4tvMlQq6pGl01H7ThhwzVr6yRlV\"\n",
    "callback_uri = \"oob\"\n",
    "auth = tweepy.OAuthHandler(consumer_key, consumer_secret, callback_uri)\n",
    "request_url = auth.get_authorization_url()\n",
    "webbrowser.open(request_url)\n",
    "user_pin_input = input(\"What is the user pin? \")\n",
    "auth.get_access_token(user_pin_input)"
   ]
  },
  {
   "cell_type": "code",
   "execution_count": 4,
   "metadata": {},
   "outputs": [],
   "source": [
    "api = tweepy.API(auth)"
   ]
  },
  {
   "cell_type": "code",
   "execution_count": 5,
   "metadata": {},
   "outputs": [
    {
     "data": {
      "text/plain": [
       "'https://twitter.com/code/status/1333852878314803201'"
      ]
     },
     "execution_count": 5,
     "metadata": {},
     "output_type": "execute_result"
    }
   ],
   "source": [
    "user = api.get_user('code')\n",
    "user_timeline = user.timeline()\n",
    "user_timeline_status_obj = user_timeline[0]\n",
    "status_obj_id = user_timeline_status_obj.id\n",
    "status_obj_screenname = user_timeline_status_obj.user.screen_name\n",
    "\n",
    "api.retweet(status_obj_id)\n",
    "api.create_favorite(status_obj_id)\n",
    "tweet = api.get_status(status_obj_id)\n",
    "tweet.user.screen_name \n",
    "api.update_status(f'@{tweet.user.screen_name}', 'Wow this is cool!', tweet.id)"
   ]
  },
  {
   "cell_type": "code",
   "execution_count": 16,
   "metadata": {},
   "outputs": [
    {
     "name": "stdout",
     "output_type": "stream",
     "text": [
      "Writing retweet_like_reply.py\n"
     ]
    }
   ],
   "source": [
    "%%writefile retweet_like_reply.py\n",
    "\n",
    "import tweepy\n",
    "import webbrowser\n",
    "import time\n",
    "import pandas as pd\n",
    "\n",
    "consumer_key = \"SRKYbF44wb7ImB9c3XxppcX22\"\n",
    "consumer_secret = \"GUZpAdVN31FRnD5Tjaxqk5l4tvMlQq6pGl01H7ThhwzVr6yRlV\"\n",
    "callback_uri = \"oob\"\n",
    "\n",
    "auth = tweepy.OAuthHandler(consumer_key, consumer_secret, callback_uri)\n",
    "request_url = auth.get_authorization_url()\n",
    "webbrowser.open(request_url)\n",
    "user_pin_input = input(\"What is the user pin? \")\n",
    "auth.get_access_token(user_pin_input)\n",
    "\n",
    "api = tweepy.API(auth)\n",
    "\n",
    "user = api.get_user('code')\n",
    "user_timeline = user.timeline()\n",
    "user_timeline_status_obj = user_timeline[0]\n",
    "status_obj_id = user_timeline_status_obj.id\n",
    "status_obj_screen_name = user_timeline_status_obj.user.screen_name \n",
    "\n",
    "api.retweet(status_obj_id)\n",
    "api.create_favorite(status_obj_id)\n",
    "tweet = api.get_status(status_obj_id)\n",
    "tweet.user.screen_name \n",
    "api.update_status(f'@{tweet.user.screen_name}', 'Wow this is cool!', tweet.id)\n",
    " "
   ]
  },
  {
   "cell_type": "code",
   "execution_count": null,
   "metadata": {},
   "outputs": [],
   "source": []
  }
 ],
 "metadata": {
  "kernelspec": {
   "display_name": "Python 3",
   "language": "python",
   "name": "python3"
  },
  "language_info": {
   "codemirror_mode": {
    "name": "ipython",
    "version": 3
   },
   "file_extension": ".py",
   "mimetype": "text/x-python",
   "name": "python",
   "nbconvert_exporter": "python",
   "pygments_lexer": "ipython3",
   "version": "3.7.3"
  }
 },
 "nbformat": 4,
 "nbformat_minor": 2
}
