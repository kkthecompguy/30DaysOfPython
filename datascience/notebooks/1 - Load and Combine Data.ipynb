{
 "cells": [
  {
   "cell_type": "code",
   "execution_count": 1,
   "metadata": {},
   "outputs": [],
   "source": [
    "import os\n",
    "import pandas as pd"
   ]
  },
  {
   "cell_type": "code",
   "execution_count": 15,
   "metadata": {},
   "outputs": [],
   "source": [
    "cwd = os.getcwd()\n",
    "BASE_DIR = os.path.dirname(cwd)\n",
    "DATA_DIR = os.path.join(BASE_DIR, 'movies')\n",
    "CACHE = os.path.join(BASE_DIR, 'cache')\n",
    "output_file = os.path.join(CACHE, 'themoviedb-search.csv')\n",
    "csvfiles = [x for x in os.listdir(DATA_DIR) if x.endswith('.csv')]"
   ]
  },
  {
   "cell_type": "code",
   "execution_count": 6,
   "metadata": {},
   "outputs": [
    {
     "data": {
      "text/html": [
       "<div>\n",
       "<style scoped>\n",
       "    .dataframe tbody tr th:only-of-type {\n",
       "        vertical-align: middle;\n",
       "    }\n",
       "\n",
       "    .dataframe tbody tr th {\n",
       "        vertical-align: top;\n",
       "    }\n",
       "\n",
       "    .dataframe thead th {\n",
       "        text-align: right;\n",
       "    }\n",
       "</style>\n",
       "<table border=\"1\" class=\"dataframe\">\n",
       "  <thead>\n",
       "    <tr style=\"text-align: right;\">\n",
       "      <th></th>\n",
       "      <th>adult</th>\n",
       "      <th>backdrop_path</th>\n",
       "      <th>belongs_to_collection</th>\n",
       "      <th>budget</th>\n",
       "      <th>genres</th>\n",
       "      <th>homepage</th>\n",
       "      <th>id</th>\n",
       "      <th>imdb_id</th>\n",
       "      <th>original_language</th>\n",
       "      <th>original_title</th>\n",
       "      <th>...</th>\n",
       "      <th>release_date</th>\n",
       "      <th>revenue</th>\n",
       "      <th>runtime</th>\n",
       "      <th>spoken_languages</th>\n",
       "      <th>status</th>\n",
       "      <th>tagline</th>\n",
       "      <th>title</th>\n",
       "      <th>video</th>\n",
       "      <th>vote_average</th>\n",
       "      <th>vote_count</th>\n",
       "    </tr>\n",
       "  </thead>\n",
       "  <tbody>\n",
       "    <tr>\n",
       "      <th>0</th>\n",
       "      <td>False</td>\n",
       "      <td>/p9JcAhM62U7exDGrSVqeITjlAsf.jpg</td>\n",
       "      <td>NaN</td>\n",
       "      <td>0</td>\n",
       "      <td>[{'id': 35, 'name': 'Comedy'}, {'id': 53, 'nam...</td>\n",
       "      <td>NaN</td>\n",
       "      <td>586592</td>\n",
       "      <td>tt8816194</td>\n",
       "      <td>en</td>\n",
       "      <td>Come to Daddy</td>\n",
       "      <td>...</td>\n",
       "      <td>2019-09-05</td>\n",
       "      <td>57998</td>\n",
       "      <td>93</td>\n",
       "      <td>[{'english_name': 'English', 'iso_639_1': 'en'...</td>\n",
       "      <td>Released</td>\n",
       "      <td>From The Team Behind The Witch And The Greasy ...</td>\n",
       "      <td>Come to Daddy</td>\n",
       "      <td>False</td>\n",
       "      <td>5.9</td>\n",
       "      <td>188</td>\n",
       "    </tr>\n",
       "  </tbody>\n",
       "</table>\n",
       "<p>1 rows × 25 columns</p>\n",
       "</div>"
      ],
      "text/plain": [
       "   adult                     backdrop_path  belongs_to_collection  budget  \\\n",
       "0  False  /p9JcAhM62U7exDGrSVqeITjlAsf.jpg                    NaN       0   \n",
       "\n",
       "                                              genres  homepage      id  \\\n",
       "0  [{'id': 35, 'name': 'Comedy'}, {'id': 53, 'nam...       NaN  586592   \n",
       "\n",
       "     imdb_id original_language original_title  ... release_date  revenue  \\\n",
       "0  tt8816194                en  Come to Daddy  ...   2019-09-05    57998   \n",
       "\n",
       "  runtime                                   spoken_languages    status  \\\n",
       "0      93  [{'english_name': 'English', 'iso_639_1': 'en'...  Released   \n",
       "\n",
       "                                             tagline          title  video  \\\n",
       "0  From The Team Behind The Witch And The Greasy ...  Come to Daddy  False   \n",
       "\n",
       "  vote_average vote_count  \n",
       "0          5.9        188  \n",
       "\n",
       "[1 rows x 25 columns]"
      ]
     },
     "execution_count": 6,
     "metadata": {},
     "output_type": "execute_result"
    }
   ],
   "source": [
    "df = pd.read_csv(os.path.join(DATA_DIR, csvfiles[0])) "
   ]
  },
  {
   "cell_type": "code",
   "execution_count": 7,
   "metadata": {},
   "outputs": [],
   "source": [
    "genres = []\n",
    "spoken_languages = []\n",
    "my_dataframe = []\n",
    "for filename in csvfiles:\n",
    "    df = pd.read_csv(os.path.join(DATA_DIR, filename))\n",
    "    df['filename'] = filename\n",
    "    my_dataframe.append(df)\n",
    "    genres.append(df['genres'])\n",
    "    spoken_languages.append(df['spoken_languages']) "
   ]
  },
  {
   "cell_type": "code",
   "execution_count": 17,
   "metadata": {},
   "outputs": [],
   "source": [
    "df = pd.concat(my_dataframe) "
   ]
  },
  {
   "cell_type": "code",
   "execution_count": 16,
   "metadata": {},
   "outputs": [],
   "source": [
    "df.to_csv(output_file, index=False)"
   ]
  },
  {
   "cell_type": "code",
   "execution_count": null,
   "metadata": {},
   "outputs": [],
   "source": []
  }
 ],
 "metadata": {
  "kernelspec": {
   "display_name": "Python 3",
   "language": "python",
   "name": "python3"
  },
  "language_info": {
   "codemirror_mode": {
    "name": "ipython",
    "version": 3
   },
   "file_extension": ".py",
   "mimetype": "text/x-python",
   "name": "python",
   "nbconvert_exporter": "python",
   "pygments_lexer": "ipython3",
   "version": "3.7.3"
  }
 },
 "nbformat": 4,
 "nbformat_minor": 2
}
